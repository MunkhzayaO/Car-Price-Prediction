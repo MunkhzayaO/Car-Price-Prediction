{
 "cells": [
  {
   "cell_type": "markdown",
   "id": "c5fe4ede-46e0-4e68-9cee-5f0042e000b0",
   "metadata": {},
   "source": [
    "## DATA CLEANING & EDA"
   ]
  },
  {
   "cell_type": "code",
   "execution_count": 432,
   "id": "838a4807-b7cf-4453-949b-2567dd1c7b44",
   "metadata": {},
   "outputs": [],
   "source": [
    "import pandas as pd\n",
    "import matplotlib as plt"
   ]
  },
  {
   "cell_type": "code",
   "execution_count": 433,
   "id": "5796adf4-4fab-4b62-9ba7-a6ad3d48224d",
   "metadata": {},
   "outputs": [],
   "source": [
    "df = pd.read_csv('uneguicar1.csv')"
   ]
  },
  {
   "cell_type": "code",
   "execution_count": 434,
   "id": "06a06e9d-b356-40aa-ab4a-f78e512baf6f",
   "metadata": {},
   "outputs": [
    {
     "data": {
      "text/html": [
       "<div>\n",
       "<style scoped>\n",
       "    .dataframe tbody tr th:only-of-type {\n",
       "        vertical-align: middle;\n",
       "    }\n",
       "\n",
       "    .dataframe tbody tr th {\n",
       "        vertical-align: top;\n",
       "    }\n",
       "\n",
       "    .dataframe thead th {\n",
       "        text-align: right;\n",
       "    }\n",
       "</style>\n",
       "<table border=\"1\" class=\"dataframe\">\n",
       "  <thead>\n",
       "    <tr style=\"text-align: right;\">\n",
       "      <th></th>\n",
       "      <th>prices</th>\n",
       "      <th>manufacturers</th>\n",
       "      <th>manufactured_years</th>\n",
       "      <th>entry_years</th>\n",
       "      <th>engine_sizes</th>\n",
       "      <th>transmissions</th>\n",
       "      <th>fuel_types</th>\n",
       "      <th>mileages</th>\n",
       "    </tr>\n",
       "  </thead>\n",
       "  <tbody>\n",
       "    <tr>\n",
       "      <th>0</th>\n",
       "      <td>29.2</td>\n",
       "      <td>Prius 40, 41</td>\n",
       "      <td>2012</td>\n",
       "      <td>2024</td>\n",
       "      <td>1.8 л</td>\n",
       "      <td>Автомат</td>\n",
       "      <td>Хайбрид</td>\n",
       "      <td>179000 км.</td>\n",
       "    </tr>\n",
       "    <tr>\n",
       "      <th>1</th>\n",
       "      <td>120.0</td>\n",
       "      <td>Patrol</td>\n",
       "      <td>2016</td>\n",
       "      <td>2016</td>\n",
       "      <td>5.2 л</td>\n",
       "      <td>Автомат</td>\n",
       "      <td>Бензин</td>\n",
       "      <td>100000 км.</td>\n",
       "    </tr>\n",
       "    <tr>\n",
       "      <th>2</th>\n",
       "      <td>79.0</td>\n",
       "      <td>Camry</td>\n",
       "      <td>2022</td>\n",
       "      <td>2024</td>\n",
       "      <td>1.5 л</td>\n",
       "      <td>Автомат</td>\n",
       "      <td>Хайбрид</td>\n",
       "      <td>13000 км.</td>\n",
       "    </tr>\n",
       "    <tr>\n",
       "      <th>3</th>\n",
       "      <td>560.0</td>\n",
       "      <td>LX</td>\n",
       "      <td>2023</td>\n",
       "      <td>2023</td>\n",
       "      <td>3.5 л</td>\n",
       "      <td>Автомат</td>\n",
       "      <td>Бензин</td>\n",
       "      <td>3400 км.</td>\n",
       "    </tr>\n",
       "    <tr>\n",
       "      <th>4</th>\n",
       "      <td>14.6</td>\n",
       "      <td>NV200</td>\n",
       "      <td>2012</td>\n",
       "      <td>2024</td>\n",
       "      <td>1.6 л</td>\n",
       "      <td>Автомат</td>\n",
       "      <td>Бензин</td>\n",
       "      <td>189000 км.</td>\n",
       "    </tr>\n",
       "    <tr>\n",
       "      <th>...</th>\n",
       "      <td>...</td>\n",
       "      <td>...</td>\n",
       "      <td>...</td>\n",
       "      <td>...</td>\n",
       "      <td>...</td>\n",
       "      <td>...</td>\n",
       "      <td>...</td>\n",
       "      <td>...</td>\n",
       "    </tr>\n",
       "    <tr>\n",
       "      <th>2995</th>\n",
       "      <td>6.5</td>\n",
       "      <td>Spacio</td>\n",
       "      <td>2002</td>\n",
       "      <td>2010</td>\n",
       "      <td>1.5 л</td>\n",
       "      <td>Автомат</td>\n",
       "      <td>Бензин</td>\n",
       "      <td>1 км.</td>\n",
       "    </tr>\n",
       "    <tr>\n",
       "      <th>2996</th>\n",
       "      <td>35.0</td>\n",
       "      <td>Бусад</td>\n",
       "      <td>2001</td>\n",
       "      <td>2012</td>\n",
       "      <td>4.6 л</td>\n",
       "      <td>Автомат</td>\n",
       "      <td>Бензин</td>\n",
       "      <td>200 км.</td>\n",
       "    </tr>\n",
       "    <tr>\n",
       "      <th>2997</th>\n",
       "      <td>7.8</td>\n",
       "      <td>Insight</td>\n",
       "      <td>2009</td>\n",
       "      <td>2019</td>\n",
       "      <td>1.3 л</td>\n",
       "      <td>Автомат</td>\n",
       "      <td>Хайбрид</td>\n",
       "      <td>200 км.</td>\n",
       "    </tr>\n",
       "    <tr>\n",
       "      <th>2998</th>\n",
       "      <td>57.0</td>\n",
       "      <td>GS</td>\n",
       "      <td>2016</td>\n",
       "      <td>2024</td>\n",
       "      <td>3.0 л</td>\n",
       "      <td>Автомат</td>\n",
       "      <td>Хайбрид</td>\n",
       "      <td>150000 км.</td>\n",
       "    </tr>\n",
       "    <tr>\n",
       "      <th>2999</th>\n",
       "      <td>40.0</td>\n",
       "      <td>Vellfire</td>\n",
       "      <td>2009</td>\n",
       "      <td>2024</td>\n",
       "      <td>2.4 л</td>\n",
       "      <td>Автомат</td>\n",
       "      <td>Бензин</td>\n",
       "      <td>188000 км.</td>\n",
       "    </tr>\n",
       "  </tbody>\n",
       "</table>\n",
       "<p>3000 rows × 8 columns</p>\n",
       "</div>"
      ],
      "text/plain": [
       "      prices manufacturers  manufactured_years  entry_years engine_sizes  \\\n",
       "0       29.2  Prius 40, 41                2012         2024        1.8 л   \n",
       "1      120.0        Patrol                2016         2016        5.2 л   \n",
       "2       79.0         Camry                2022         2024        1.5 л   \n",
       "3      560.0            LX                2023         2023        3.5 л   \n",
       "4       14.6         NV200                2012         2024        1.6 л   \n",
       "...      ...           ...                 ...          ...          ...   \n",
       "2995     6.5        Spacio                2002         2010        1.5 л   \n",
       "2996    35.0         Бусад                2001         2012        4.6 л   \n",
       "2997     7.8       Insight                2009         2019        1.3 л   \n",
       "2998    57.0            GS                2016         2024        3.0 л   \n",
       "2999    40.0      Vellfire                2009         2024        2.4 л   \n",
       "\n",
       "     transmissions fuel_types    mileages  \n",
       "0          Автомат    Хайбрид  179000 км.  \n",
       "1          Автомат     Бензин  100000 км.  \n",
       "2          Автомат    Хайбрид   13000 км.  \n",
       "3          Автомат     Бензин    3400 км.  \n",
       "4          Автомат     Бензин  189000 км.  \n",
       "...            ...        ...         ...  \n",
       "2995       Автомат     Бензин       1 км.  \n",
       "2996       Автомат     Бензин     200 км.  \n",
       "2997       Автомат    Хайбрид     200 км.  \n",
       "2998       Автомат    Хайбрид  150000 км.  \n",
       "2999       Автомат     Бензин  188000 км.  \n",
       "\n",
       "[3000 rows x 8 columns]"
      ]
     },
     "execution_count": 434,
     "metadata": {},
     "output_type": "execute_result"
    }
   ],
   "source": [
    "df"
   ]
  },
  {
   "cell_type": "code",
   "execution_count": 435,
   "id": "ede9cec9-1727-4abc-9d4f-c73912213583",
   "metadata": {},
   "outputs": [],
   "source": [
    "df['prices'] = df['prices'] * 1000000"
   ]
  },
  {
   "cell_type": "code",
   "execution_count": 436,
   "id": "103397bf-8ee6-48d2-812c-0b48a856b736",
   "metadata": {},
   "outputs": [
    {
     "data": {
      "text/plain": [
       "0        29200000.0\n",
       "1       120000000.0\n",
       "2        79000000.0\n",
       "3       560000000.0\n",
       "4        14600000.0\n",
       "           ...     \n",
       "2995      6500000.0\n",
       "2996     35000000.0\n",
       "2997      7800000.0\n",
       "2998     57000000.0\n",
       "2999     40000000.0\n",
       "Name: prices, Length: 3000, dtype: float64"
      ]
     },
     "execution_count": 436,
     "metadata": {},
     "output_type": "execute_result"
    }
   ],
   "source": [
    "df['prices']"
   ]
  },
  {
   "cell_type": "code",
   "execution_count": 437,
   "id": "cbb5e18b-9e37-4028-8e0c-3f5aa58e66b4",
   "metadata": {},
   "outputs": [],
   "source": [
    "df['prices'] = df['prices'].astype(int)"
   ]
  },
  {
   "cell_type": "code",
   "execution_count": 438,
   "id": "171dadda-4824-4072-b2e4-c9034a50e98e",
   "metadata": {},
   "outputs": [
    {
     "data": {
      "text/plain": [
       "0        29200000\n",
       "1       120000000\n",
       "2        79000000\n",
       "3       560000000\n",
       "4        14600000\n",
       "          ...    \n",
       "2995      6500000\n",
       "2996     35000000\n",
       "2997      7800000\n",
       "2998     57000000\n",
       "2999     40000000\n",
       "Name: prices, Length: 3000, dtype: int32"
      ]
     },
     "execution_count": 438,
     "metadata": {},
     "output_type": "execute_result"
    }
   ],
   "source": [
    "df['prices']"
   ]
  },
  {
   "cell_type": "code",
   "execution_count": 439,
   "id": "2c9b9693-3c6b-4211-b933-358673a6ccca",
   "metadata": {},
   "outputs": [
    {
     "data": {
      "text/html": [
       "<div>\n",
       "<style scoped>\n",
       "    .dataframe tbody tr th:only-of-type {\n",
       "        vertical-align: middle;\n",
       "    }\n",
       "\n",
       "    .dataframe tbody tr th {\n",
       "        vertical-align: top;\n",
       "    }\n",
       "\n",
       "    .dataframe thead th {\n",
       "        text-align: right;\n",
       "    }\n",
       "</style>\n",
       "<table border=\"1\" class=\"dataframe\">\n",
       "  <thead>\n",
       "    <tr style=\"text-align: right;\">\n",
       "      <th></th>\n",
       "      <th>prices</th>\n",
       "      <th>manufacturers</th>\n",
       "      <th>manufactured_years</th>\n",
       "      <th>entry_years</th>\n",
       "      <th>engine_sizes</th>\n",
       "      <th>transmissions</th>\n",
       "      <th>fuel_types</th>\n",
       "      <th>mileages</th>\n",
       "    </tr>\n",
       "  </thead>\n",
       "  <tbody>\n",
       "    <tr>\n",
       "      <th>0</th>\n",
       "      <td>29200000</td>\n",
       "      <td>Prius 40, 41</td>\n",
       "      <td>2012</td>\n",
       "      <td>2024</td>\n",
       "      <td>1.8 л</td>\n",
       "      <td>Автомат</td>\n",
       "      <td>Хайбрид</td>\n",
       "      <td>179000 км.</td>\n",
       "    </tr>\n",
       "    <tr>\n",
       "      <th>1</th>\n",
       "      <td>120000000</td>\n",
       "      <td>Patrol</td>\n",
       "      <td>2016</td>\n",
       "      <td>2016</td>\n",
       "      <td>5.2 л</td>\n",
       "      <td>Автомат</td>\n",
       "      <td>Бензин</td>\n",
       "      <td>100000 км.</td>\n",
       "    </tr>\n",
       "    <tr>\n",
       "      <th>2</th>\n",
       "      <td>79000000</td>\n",
       "      <td>Camry</td>\n",
       "      <td>2022</td>\n",
       "      <td>2024</td>\n",
       "      <td>1.5 л</td>\n",
       "      <td>Автомат</td>\n",
       "      <td>Хайбрид</td>\n",
       "      <td>13000 км.</td>\n",
       "    </tr>\n",
       "    <tr>\n",
       "      <th>3</th>\n",
       "      <td>560000000</td>\n",
       "      <td>LX</td>\n",
       "      <td>2023</td>\n",
       "      <td>2023</td>\n",
       "      <td>3.5 л</td>\n",
       "      <td>Автомат</td>\n",
       "      <td>Бензин</td>\n",
       "      <td>3400 км.</td>\n",
       "    </tr>\n",
       "    <tr>\n",
       "      <th>4</th>\n",
       "      <td>14600000</td>\n",
       "      <td>NV200</td>\n",
       "      <td>2012</td>\n",
       "      <td>2024</td>\n",
       "      <td>1.6 л</td>\n",
       "      <td>Автомат</td>\n",
       "      <td>Бензин</td>\n",
       "      <td>189000 км.</td>\n",
       "    </tr>\n",
       "    <tr>\n",
       "      <th>...</th>\n",
       "      <td>...</td>\n",
       "      <td>...</td>\n",
       "      <td>...</td>\n",
       "      <td>...</td>\n",
       "      <td>...</td>\n",
       "      <td>...</td>\n",
       "      <td>...</td>\n",
       "      <td>...</td>\n",
       "    </tr>\n",
       "    <tr>\n",
       "      <th>2995</th>\n",
       "      <td>6500000</td>\n",
       "      <td>Spacio</td>\n",
       "      <td>2002</td>\n",
       "      <td>2010</td>\n",
       "      <td>1.5 л</td>\n",
       "      <td>Автомат</td>\n",
       "      <td>Бензин</td>\n",
       "      <td>1 км.</td>\n",
       "    </tr>\n",
       "    <tr>\n",
       "      <th>2996</th>\n",
       "      <td>35000000</td>\n",
       "      <td>Бусад</td>\n",
       "      <td>2001</td>\n",
       "      <td>2012</td>\n",
       "      <td>4.6 л</td>\n",
       "      <td>Автомат</td>\n",
       "      <td>Бензин</td>\n",
       "      <td>200 км.</td>\n",
       "    </tr>\n",
       "    <tr>\n",
       "      <th>2997</th>\n",
       "      <td>7800000</td>\n",
       "      <td>Insight</td>\n",
       "      <td>2009</td>\n",
       "      <td>2019</td>\n",
       "      <td>1.3 л</td>\n",
       "      <td>Автомат</td>\n",
       "      <td>Хайбрид</td>\n",
       "      <td>200 км.</td>\n",
       "    </tr>\n",
       "    <tr>\n",
       "      <th>2998</th>\n",
       "      <td>57000000</td>\n",
       "      <td>GS</td>\n",
       "      <td>2016</td>\n",
       "      <td>2024</td>\n",
       "      <td>3.0 л</td>\n",
       "      <td>Автомат</td>\n",
       "      <td>Хайбрид</td>\n",
       "      <td>150000 км.</td>\n",
       "    </tr>\n",
       "    <tr>\n",
       "      <th>2999</th>\n",
       "      <td>40000000</td>\n",
       "      <td>Vellfire</td>\n",
       "      <td>2009</td>\n",
       "      <td>2024</td>\n",
       "      <td>2.4 л</td>\n",
       "      <td>Автомат</td>\n",
       "      <td>Бензин</td>\n",
       "      <td>188000 км.</td>\n",
       "    </tr>\n",
       "  </tbody>\n",
       "</table>\n",
       "<p>3000 rows × 8 columns</p>\n",
       "</div>"
      ],
      "text/plain": [
       "         prices manufacturers  manufactured_years  entry_years engine_sizes  \\\n",
       "0      29200000  Prius 40, 41                2012         2024        1.8 л   \n",
       "1     120000000        Patrol                2016         2016        5.2 л   \n",
       "2      79000000         Camry                2022         2024        1.5 л   \n",
       "3     560000000            LX                2023         2023        3.5 л   \n",
       "4      14600000         NV200                2012         2024        1.6 л   \n",
       "...         ...           ...                 ...          ...          ...   \n",
       "2995    6500000        Spacio                2002         2010        1.5 л   \n",
       "2996   35000000         Бусад                2001         2012        4.6 л   \n",
       "2997    7800000       Insight                2009         2019        1.3 л   \n",
       "2998   57000000            GS                2016         2024        3.0 л   \n",
       "2999   40000000      Vellfire                2009         2024        2.4 л   \n",
       "\n",
       "     transmissions fuel_types    mileages  \n",
       "0          Автомат    Хайбрид  179000 км.  \n",
       "1          Автомат     Бензин  100000 км.  \n",
       "2          Автомат    Хайбрид   13000 км.  \n",
       "3          Автомат     Бензин    3400 км.  \n",
       "4          Автомат     Бензин  189000 км.  \n",
       "...            ...        ...         ...  \n",
       "2995       Автомат     Бензин       1 км.  \n",
       "2996       Автомат     Бензин     200 км.  \n",
       "2997       Автомат    Хайбрид     200 км.  \n",
       "2998       Автомат    Хайбрид  150000 км.  \n",
       "2999       Автомат     Бензин  188000 км.  \n",
       "\n",
       "[3000 rows x 8 columns]"
      ]
     },
     "execution_count": 439,
     "metadata": {},
     "output_type": "execute_result"
    }
   ],
   "source": [
    "df"
   ]
  },
  {
   "cell_type": "code",
   "execution_count": 440,
   "id": "626565e6-d7ef-4574-be0c-a4c427243b34",
   "metadata": {},
   "outputs": [],
   "source": [
    "df['transmissions'] = df['transmissions'].replace('Автомат', 'Automat')"
   ]
  },
  {
   "cell_type": "code",
   "execution_count": 441,
   "id": "299f39ad-f4c4-44c0-8cfb-6b3781081872",
   "metadata": {},
   "outputs": [
    {
     "data": {
      "text/plain": [
       "0       Automat\n",
       "1       Automat\n",
       "2       Automat\n",
       "3       Automat\n",
       "4       Automat\n",
       "         ...   \n",
       "2995    Automat\n",
       "2996    Automat\n",
       "2997    Automat\n",
       "2998    Automat\n",
       "2999    Automat\n",
       "Name: transmissions, Length: 3000, dtype: object"
      ]
     },
     "execution_count": 441,
     "metadata": {},
     "output_type": "execute_result"
    }
   ],
   "source": [
    "df['transmissions']"
   ]
  },
  {
   "cell_type": "code",
   "execution_count": 442,
   "id": "47065560-d7fd-42c7-987c-92dd80e43172",
   "metadata": {},
   "outputs": [],
   "source": [
    "df['fuel_types'] = df['fuel_types'].replace('Хайбрид', 'Hybrid')"
   ]
  },
  {
   "cell_type": "code",
   "execution_count": 443,
   "id": "4fa536de-791b-4910-b98a-ab86c52c63f4",
   "metadata": {},
   "outputs": [],
   "source": [
    "df['fuel_types'] = df['fuel_types'].replace('Бензин', 'Petrol')"
   ]
  },
  {
   "cell_type": "code",
   "execution_count": 444,
   "id": "de49f95f-6542-4406-a443-23d9caf8a2df",
   "metadata": {},
   "outputs": [],
   "source": [
    "df['fuel_types'] = df['fuel_types'].replace('Газ', 'Gas')"
   ]
  },
  {
   "cell_type": "code",
   "execution_count": 445,
   "id": "d9ac4eba-35fc-4626-b69b-9387c50e0da3",
   "metadata": {},
   "outputs": [],
   "source": [
    "df['fuel_types'] = df['fuel_types'].replace('Дизель', 'Diesel')"
   ]
  },
  {
   "cell_type": "code",
   "execution_count": 446,
   "id": "b325e252-acb8-45a9-ae64-62abca783f0a",
   "metadata": {},
   "outputs": [
    {
     "data": {
      "text/plain": [
       "0       Hybrid\n",
       "1       Petrol\n",
       "2       Hybrid\n",
       "3       Petrol\n",
       "4       Petrol\n",
       "         ...  \n",
       "2995    Petrol\n",
       "2996    Petrol\n",
       "2997    Hybrid\n",
       "2998    Hybrid\n",
       "2999    Petrol\n",
       "Name: fuel_types, Length: 3000, dtype: object"
      ]
     },
     "execution_count": 446,
     "metadata": {},
     "output_type": "execute_result"
    }
   ],
   "source": [
    "df['fuel_types']"
   ]
  },
  {
   "cell_type": "code",
   "execution_count": 447,
   "id": "55c6b345-d0ce-42f3-9087-5cd5b407ac72",
   "metadata": {},
   "outputs": [
    {
     "data": {
      "text/plain": [
       "Petrol    1650\n",
       "Hybrid    1250\n",
       "Gas         50\n",
       "Diesel      50\n",
       "Name: fuel_types, dtype: int64"
      ]
     },
     "execution_count": 447,
     "metadata": {},
     "output_type": "execute_result"
    }
   ],
   "source": [
    "df['fuel_types'].value_counts()"
   ]
  },
  {
   "cell_type": "code",
   "execution_count": 448,
   "id": "bcabacbe-adda-47ce-be4c-81f81894406e",
   "metadata": {},
   "outputs": [],
   "source": [
    "df['engine_sizes'] = df['engine_sizes'].replace('Цахилгаан', 'Electric')"
   ]
  },
  {
   "cell_type": "code",
   "execution_count": 449,
   "id": "9f1a39d2-dc19-4ece-a277-49bb0b60ed70",
   "metadata": {},
   "outputs": [],
   "source": [
    "df['engine_sizes'] = df['engine_sizes'].str.replace(' л', '')"
   ]
  },
  {
   "cell_type": "code",
   "execution_count": 450,
   "id": "36e3e2fd-6138-4b31-9e22-5a30bc3aeb02",
   "metadata": {},
   "outputs": [
    {
     "data": {
      "text/plain": [
       "0       1.8\n",
       "1       5.2\n",
       "2       1.5\n",
       "3       3.5\n",
       "4       1.6\n",
       "       ... \n",
       "2995    1.5\n",
       "2996    4.6\n",
       "2997    1.3\n",
       "2998    3.0\n",
       "2999    2.4\n",
       "Name: engine_sizes, Length: 3000, dtype: object"
      ]
     },
     "execution_count": 450,
     "metadata": {},
     "output_type": "execute_result"
    }
   ],
   "source": [
    "df['engine_sizes']"
   ]
  },
  {
   "cell_type": "code",
   "execution_count": 451,
   "id": "8bdafd68-e22d-4592-845e-09c1c213321d",
   "metadata": {},
   "outputs": [
    {
     "name": "stderr",
     "output_type": "stream",
     "text": [
      "C:\\Users\\mnkhz\\AppData\\Local\\Temp\\ipykernel_18792\\2901983577.py:1: FutureWarning: The default value of regex will change from True to False in a future version.\n",
      "  df['mileages'] = df['mileages'].str.replace(' км.', '')\n"
     ]
    }
   ],
   "source": [
    "df['mileages'] = df['mileages'].str.replace(' км.', '')"
   ]
  },
  {
   "cell_type": "code",
   "execution_count": 452,
   "id": "cc82e9e7-89dd-49e6-b3ab-65d195713ac0",
   "metadata": {},
   "outputs": [
    {
     "data": {
      "text/plain": [
       "0       179000\n",
       "1       100000\n",
       "2        13000\n",
       "3         3400\n",
       "4       189000\n",
       "         ...  \n",
       "2995         1\n",
       "2996       200\n",
       "2997       200\n",
       "2998    150000\n",
       "2999    188000\n",
       "Name: mileages, Length: 3000, dtype: object"
      ]
     },
     "execution_count": 452,
     "metadata": {},
     "output_type": "execute_result"
    }
   ],
   "source": [
    "df['mileages']"
   ]
  },
  {
   "cell_type": "code",
   "execution_count": 453,
   "id": "8bd78527-3509-4a42-8d86-32de7b00c0d0",
   "metadata": {},
   "outputs": [],
   "source": [
    "df['manufacturers'] = df['manufacturers'].replace('Бусад', 'Other')"
   ]
  },
  {
   "cell_type": "code",
   "execution_count": 454,
   "id": "61f976fd-a5b2-4a34-b028-5e685e498935",
   "metadata": {},
   "outputs": [
    {
     "data": {
      "text/html": [
       "<div>\n",
       "<style scoped>\n",
       "    .dataframe tbody tr th:only-of-type {\n",
       "        vertical-align: middle;\n",
       "    }\n",
       "\n",
       "    .dataframe tbody tr th {\n",
       "        vertical-align: top;\n",
       "    }\n",
       "\n",
       "    .dataframe thead th {\n",
       "        text-align: right;\n",
       "    }\n",
       "</style>\n",
       "<table border=\"1\" class=\"dataframe\">\n",
       "  <thead>\n",
       "    <tr style=\"text-align: right;\">\n",
       "      <th></th>\n",
       "      <th>prices</th>\n",
       "      <th>manufacturers</th>\n",
       "      <th>manufactured_years</th>\n",
       "      <th>entry_years</th>\n",
       "      <th>engine_sizes</th>\n",
       "      <th>transmissions</th>\n",
       "      <th>fuel_types</th>\n",
       "      <th>mileages</th>\n",
       "    </tr>\n",
       "  </thead>\n",
       "  <tbody>\n",
       "    <tr>\n",
       "      <th>0</th>\n",
       "      <td>29200000</td>\n",
       "      <td>Prius 40, 41</td>\n",
       "      <td>2012</td>\n",
       "      <td>2024</td>\n",
       "      <td>1.8</td>\n",
       "      <td>Automat</td>\n",
       "      <td>Hybrid</td>\n",
       "      <td>179000</td>\n",
       "    </tr>\n",
       "    <tr>\n",
       "      <th>1</th>\n",
       "      <td>120000000</td>\n",
       "      <td>Patrol</td>\n",
       "      <td>2016</td>\n",
       "      <td>2016</td>\n",
       "      <td>5.2</td>\n",
       "      <td>Automat</td>\n",
       "      <td>Petrol</td>\n",
       "      <td>100000</td>\n",
       "    </tr>\n",
       "    <tr>\n",
       "      <th>2</th>\n",
       "      <td>79000000</td>\n",
       "      <td>Camry</td>\n",
       "      <td>2022</td>\n",
       "      <td>2024</td>\n",
       "      <td>1.5</td>\n",
       "      <td>Automat</td>\n",
       "      <td>Hybrid</td>\n",
       "      <td>13000</td>\n",
       "    </tr>\n",
       "    <tr>\n",
       "      <th>3</th>\n",
       "      <td>560000000</td>\n",
       "      <td>LX</td>\n",
       "      <td>2023</td>\n",
       "      <td>2023</td>\n",
       "      <td>3.5</td>\n",
       "      <td>Automat</td>\n",
       "      <td>Petrol</td>\n",
       "      <td>3400</td>\n",
       "    </tr>\n",
       "    <tr>\n",
       "      <th>4</th>\n",
       "      <td>14600000</td>\n",
       "      <td>NV200</td>\n",
       "      <td>2012</td>\n",
       "      <td>2024</td>\n",
       "      <td>1.6</td>\n",
       "      <td>Automat</td>\n",
       "      <td>Petrol</td>\n",
       "      <td>189000</td>\n",
       "    </tr>\n",
       "    <tr>\n",
       "      <th>...</th>\n",
       "      <td>...</td>\n",
       "      <td>...</td>\n",
       "      <td>...</td>\n",
       "      <td>...</td>\n",
       "      <td>...</td>\n",
       "      <td>...</td>\n",
       "      <td>...</td>\n",
       "      <td>...</td>\n",
       "    </tr>\n",
       "    <tr>\n",
       "      <th>2995</th>\n",
       "      <td>6500000</td>\n",
       "      <td>Spacio</td>\n",
       "      <td>2002</td>\n",
       "      <td>2010</td>\n",
       "      <td>1.5</td>\n",
       "      <td>Automat</td>\n",
       "      <td>Petrol</td>\n",
       "      <td>1</td>\n",
       "    </tr>\n",
       "    <tr>\n",
       "      <th>2996</th>\n",
       "      <td>35000000</td>\n",
       "      <td>Other</td>\n",
       "      <td>2001</td>\n",
       "      <td>2012</td>\n",
       "      <td>4.6</td>\n",
       "      <td>Automat</td>\n",
       "      <td>Petrol</td>\n",
       "      <td>200</td>\n",
       "    </tr>\n",
       "    <tr>\n",
       "      <th>2997</th>\n",
       "      <td>7800000</td>\n",
       "      <td>Insight</td>\n",
       "      <td>2009</td>\n",
       "      <td>2019</td>\n",
       "      <td>1.3</td>\n",
       "      <td>Automat</td>\n",
       "      <td>Hybrid</td>\n",
       "      <td>200</td>\n",
       "    </tr>\n",
       "    <tr>\n",
       "      <th>2998</th>\n",
       "      <td>57000000</td>\n",
       "      <td>GS</td>\n",
       "      <td>2016</td>\n",
       "      <td>2024</td>\n",
       "      <td>3.0</td>\n",
       "      <td>Automat</td>\n",
       "      <td>Hybrid</td>\n",
       "      <td>150000</td>\n",
       "    </tr>\n",
       "    <tr>\n",
       "      <th>2999</th>\n",
       "      <td>40000000</td>\n",
       "      <td>Vellfire</td>\n",
       "      <td>2009</td>\n",
       "      <td>2024</td>\n",
       "      <td>2.4</td>\n",
       "      <td>Automat</td>\n",
       "      <td>Petrol</td>\n",
       "      <td>188000</td>\n",
       "    </tr>\n",
       "  </tbody>\n",
       "</table>\n",
       "<p>3000 rows × 8 columns</p>\n",
       "</div>"
      ],
      "text/plain": [
       "         prices manufacturers  manufactured_years  entry_years engine_sizes  \\\n",
       "0      29200000  Prius 40, 41                2012         2024          1.8   \n",
       "1     120000000        Patrol                2016         2016          5.2   \n",
       "2      79000000         Camry                2022         2024          1.5   \n",
       "3     560000000            LX                2023         2023          3.5   \n",
       "4      14600000         NV200                2012         2024          1.6   \n",
       "...         ...           ...                 ...          ...          ...   \n",
       "2995    6500000        Spacio                2002         2010          1.5   \n",
       "2996   35000000         Other                2001         2012          4.6   \n",
       "2997    7800000       Insight                2009         2019          1.3   \n",
       "2998   57000000            GS                2016         2024          3.0   \n",
       "2999   40000000      Vellfire                2009         2024          2.4   \n",
       "\n",
       "     transmissions fuel_types mileages  \n",
       "0          Automat     Hybrid   179000  \n",
       "1          Automat     Petrol   100000  \n",
       "2          Automat     Hybrid    13000  \n",
       "3          Automat     Petrol     3400  \n",
       "4          Automat     Petrol   189000  \n",
       "...            ...        ...      ...  \n",
       "2995       Automat     Petrol        1  \n",
       "2996       Automat     Petrol      200  \n",
       "2997       Automat     Hybrid      200  \n",
       "2998       Automat     Hybrid   150000  \n",
       "2999       Automat     Petrol   188000  \n",
       "\n",
       "[3000 rows x 8 columns]"
      ]
     },
     "execution_count": 454,
     "metadata": {},
     "output_type": "execute_result"
    }
   ],
   "source": [
    "df"
   ]
  },
  {
   "cell_type": "code",
   "execution_count": 455,
   "id": "ec6c7071-1b97-4f4e-8091-76a33b42cc8a",
   "metadata": {},
   "outputs": [
    {
     "name": "stdout",
     "output_type": "stream",
     "text": [
      "['Automat']\n",
      "['Hybrid' 'Petrol' 'Gas' 'Diesel']\n"
     ]
    }
   ],
   "source": [
    "print(df['transmissions'].unique())\n",
    "print(df['fuel_types'].unique())"
   ]
  },
  {
   "cell_type": "code",
   "execution_count": 456,
   "id": "ec2092b4-4bc7-485c-b34c-2f359898bbd5",
   "metadata": {},
   "outputs": [],
   "source": [
    "df.replace({'transmissions':{'Automat':0}}, inplace=True)"
   ]
  },
  {
   "cell_type": "code",
   "execution_count": 457,
   "id": "dd91b7b2-fdbc-4700-ac26-10c0c04e4776",
   "metadata": {},
   "outputs": [],
   "source": [
    "df.replace({'fuel_types':{'Hybrid':0, 'Petrol':1, 'Gas':2, 'Diesel':3}}, inplace=True)"
   ]
  },
  {
   "cell_type": "code",
   "execution_count": 458,
   "id": "14a586de-1eb1-4541-959a-4c045a6e7456",
   "metadata": {},
   "outputs": [],
   "source": [
    "df.replace({'engine_sizes':{'Electric':1}}, inplace=True)"
   ]
  },
  {
   "cell_type": "code",
   "execution_count": 459,
   "id": "294cdd97-9e7e-4080-8840-2aef9ac14aa2",
   "metadata": {},
   "outputs": [],
   "source": [
    "df.rename(columns={'manufacturers': 'model'}, inplace=True)\n",
    "df.rename(columns={'prices': 'price'}, inplace=True)\n",
    "df.rename(columns={'manufactured_years': 'manufactured_year'}, inplace=True)\n",
    "df.rename(columns={'entry_years': 'entry_year'}, inplace=True)\n",
    "df.rename(columns={'engine_sizes': 'engine_size'}, inplace=True)\n",
    "df.rename(columns={'transmissions': 'transmission'}, inplace=True)\n",
    "df.rename(columns={'mileages': 'mileage'}, inplace=True)"
   ]
  },
  {
   "cell_type": "code",
   "execution_count": 460,
   "id": "b342c607-25a5-4dfe-a316-8d0c1a61aea9",
   "metadata": {},
   "outputs": [
    {
     "data": {
      "text/html": [
       "<div>\n",
       "<style scoped>\n",
       "    .dataframe tbody tr th:only-of-type {\n",
       "        vertical-align: middle;\n",
       "    }\n",
       "\n",
       "    .dataframe tbody tr th {\n",
       "        vertical-align: top;\n",
       "    }\n",
       "\n",
       "    .dataframe thead th {\n",
       "        text-align: right;\n",
       "    }\n",
       "</style>\n",
       "<table border=\"1\" class=\"dataframe\">\n",
       "  <thead>\n",
       "    <tr style=\"text-align: right;\">\n",
       "      <th></th>\n",
       "      <th>price</th>\n",
       "      <th>model</th>\n",
       "      <th>manufactured_year</th>\n",
       "      <th>entry_year</th>\n",
       "      <th>engine_size</th>\n",
       "      <th>transmission</th>\n",
       "      <th>fuel_types</th>\n",
       "      <th>mileage</th>\n",
       "    </tr>\n",
       "  </thead>\n",
       "  <tbody>\n",
       "    <tr>\n",
       "      <th>0</th>\n",
       "      <td>29200000</td>\n",
       "      <td>Prius 40, 41</td>\n",
       "      <td>2012</td>\n",
       "      <td>2024</td>\n",
       "      <td>1.8</td>\n",
       "      <td>0</td>\n",
       "      <td>0</td>\n",
       "      <td>179000</td>\n",
       "    </tr>\n",
       "    <tr>\n",
       "      <th>1</th>\n",
       "      <td>120000000</td>\n",
       "      <td>Patrol</td>\n",
       "      <td>2016</td>\n",
       "      <td>2016</td>\n",
       "      <td>5.2</td>\n",
       "      <td>0</td>\n",
       "      <td>1</td>\n",
       "      <td>100000</td>\n",
       "    </tr>\n",
       "    <tr>\n",
       "      <th>2</th>\n",
       "      <td>79000000</td>\n",
       "      <td>Camry</td>\n",
       "      <td>2022</td>\n",
       "      <td>2024</td>\n",
       "      <td>1.5</td>\n",
       "      <td>0</td>\n",
       "      <td>0</td>\n",
       "      <td>13000</td>\n",
       "    </tr>\n",
       "    <tr>\n",
       "      <th>3</th>\n",
       "      <td>560000000</td>\n",
       "      <td>LX</td>\n",
       "      <td>2023</td>\n",
       "      <td>2023</td>\n",
       "      <td>3.5</td>\n",
       "      <td>0</td>\n",
       "      <td>1</td>\n",
       "      <td>3400</td>\n",
       "    </tr>\n",
       "    <tr>\n",
       "      <th>4</th>\n",
       "      <td>14600000</td>\n",
       "      <td>NV200</td>\n",
       "      <td>2012</td>\n",
       "      <td>2024</td>\n",
       "      <td>1.6</td>\n",
       "      <td>0</td>\n",
       "      <td>1</td>\n",
       "      <td>189000</td>\n",
       "    </tr>\n",
       "    <tr>\n",
       "      <th>...</th>\n",
       "      <td>...</td>\n",
       "      <td>...</td>\n",
       "      <td>...</td>\n",
       "      <td>...</td>\n",
       "      <td>...</td>\n",
       "      <td>...</td>\n",
       "      <td>...</td>\n",
       "      <td>...</td>\n",
       "    </tr>\n",
       "    <tr>\n",
       "      <th>2995</th>\n",
       "      <td>6500000</td>\n",
       "      <td>Spacio</td>\n",
       "      <td>2002</td>\n",
       "      <td>2010</td>\n",
       "      <td>1.5</td>\n",
       "      <td>0</td>\n",
       "      <td>1</td>\n",
       "      <td>1</td>\n",
       "    </tr>\n",
       "    <tr>\n",
       "      <th>2996</th>\n",
       "      <td>35000000</td>\n",
       "      <td>Other</td>\n",
       "      <td>2001</td>\n",
       "      <td>2012</td>\n",
       "      <td>4.6</td>\n",
       "      <td>0</td>\n",
       "      <td>1</td>\n",
       "      <td>200</td>\n",
       "    </tr>\n",
       "    <tr>\n",
       "      <th>2997</th>\n",
       "      <td>7800000</td>\n",
       "      <td>Insight</td>\n",
       "      <td>2009</td>\n",
       "      <td>2019</td>\n",
       "      <td>1.3</td>\n",
       "      <td>0</td>\n",
       "      <td>0</td>\n",
       "      <td>200</td>\n",
       "    </tr>\n",
       "    <tr>\n",
       "      <th>2998</th>\n",
       "      <td>57000000</td>\n",
       "      <td>GS</td>\n",
       "      <td>2016</td>\n",
       "      <td>2024</td>\n",
       "      <td>3.0</td>\n",
       "      <td>0</td>\n",
       "      <td>0</td>\n",
       "      <td>150000</td>\n",
       "    </tr>\n",
       "    <tr>\n",
       "      <th>2999</th>\n",
       "      <td>40000000</td>\n",
       "      <td>Vellfire</td>\n",
       "      <td>2009</td>\n",
       "      <td>2024</td>\n",
       "      <td>2.4</td>\n",
       "      <td>0</td>\n",
       "      <td>1</td>\n",
       "      <td>188000</td>\n",
       "    </tr>\n",
       "  </tbody>\n",
       "</table>\n",
       "<p>3000 rows × 8 columns</p>\n",
       "</div>"
      ],
      "text/plain": [
       "          price         model  manufactured_year  entry_year engine_size  \\\n",
       "0      29200000  Prius 40, 41               2012        2024         1.8   \n",
       "1     120000000        Patrol               2016        2016         5.2   \n",
       "2      79000000         Camry               2022        2024         1.5   \n",
       "3     560000000            LX               2023        2023         3.5   \n",
       "4      14600000         NV200               2012        2024         1.6   \n",
       "...         ...           ...                ...         ...         ...   \n",
       "2995    6500000        Spacio               2002        2010         1.5   \n",
       "2996   35000000         Other               2001        2012         4.6   \n",
       "2997    7800000       Insight               2009        2019         1.3   \n",
       "2998   57000000            GS               2016        2024         3.0   \n",
       "2999   40000000      Vellfire               2009        2024         2.4   \n",
       "\n",
       "      transmission  fuel_types mileage  \n",
       "0                0           0  179000  \n",
       "1                0           1  100000  \n",
       "2                0           0   13000  \n",
       "3                0           1    3400  \n",
       "4                0           1  189000  \n",
       "...            ...         ...     ...  \n",
       "2995             0           1       1  \n",
       "2996             0           1     200  \n",
       "2997             0           0     200  \n",
       "2998             0           0  150000  \n",
       "2999             0           1  188000  \n",
       "\n",
       "[3000 rows x 8 columns]"
      ]
     },
     "execution_count": 460,
     "metadata": {},
     "output_type": "execute_result"
    }
   ],
   "source": [
    "df"
   ]
  },
  {
   "cell_type": "code",
   "execution_count": 461,
   "id": "e1a076cb-9a77-4264-ad8c-969a11c75e1e",
   "metadata": {},
   "outputs": [
    {
     "data": {
      "text/plain": [
       "Prius 40, 41        350\n",
       "LX                  200\n",
       "Crown               150\n",
       "Prius 30            150\n",
       "Land Cruiser 200    100\n",
       "Harrier             100\n",
       "Patrol              100\n",
       "Axio                100\n",
       "Vellfire            100\n",
       "GS                  100\n",
       "Noah                 50\n",
       "Forester             50\n",
       "C-HR                 50\n",
       "Q5                   50\n",
       "Corolla              50\n",
       "Delica               50\n",
       "Santa-Fe             50\n",
       "Note                 50\n",
       "Serena               50\n",
       "GX                   50\n",
       "Spacio               50\n",
       "Other                50\n",
       "Prius 20             50\n",
       "C-Class              50\n",
       "Prius 10, 11         50\n",
       "E-Class              50\n",
       "Camry                50\n",
       "NV200                50\n",
       "Swift                50\n",
       "Optima/K5            50\n",
       "S-Class              50\n",
       "Outlander            50\n",
       "ES                   50\n",
       "Cayenne              50\n",
       "Mazda3 Axela         50\n",
       "Escape               50\n",
       "Vanette              50\n",
       "Townace              50\n",
       "RX                   50\n",
       "Hilux                50\n",
       "Insight              50\n",
       "Name: model, dtype: int64"
      ]
     },
     "execution_count": 461,
     "metadata": {},
     "output_type": "execute_result"
    }
   ],
   "source": [
    "df['model'].value_counts()"
   ]
  },
  {
   "cell_type": "code",
   "execution_count": 462,
   "id": "69579b60-e397-4b35-9799-619c963be62c",
   "metadata": {},
   "outputs": [],
   "source": [
    "df.replace({'model':{'Prius 40, 41':4, 'Prius 30':3, 'Prius 20':2, 'Prius 10, 11':1, 'LX':0, \n",
    "                    'Crown':0, 'Land Cruiser 200':0, 'Harrier':0, 'Patrol':0, 'Axio':0, 'Vellfire':0,\n",
    "                    'GS':0, 'Noah':0, 'Forester':0, 'C-HR':0, 'Q5':0, 'Corolla':0,\n",
    "                    'Delica':0, 'Santa-Fe':0, 'Note':0, 'Serena':0, 'GX':0, 'Spacio':0,\n",
    "                    'Other':0, 'C-Class':0, 'E-Class':0, 'Camry':0, 'NV200':0, 'Swift':0,\n",
    "                    'Optima/K5':0, 'S-Class':0, 'Outlander':0, 'ES':0, 'Cayenne':0, 'Mazda3 Axela':0,\n",
    "                    'Escape':0, 'Vanette':0, 'Townace':0, 'RX':0, 'Hilux':0, 'Insight':0,\n",
    "                    }}, inplace=True)"
   ]
  },
  {
   "cell_type": "code",
   "execution_count": 463,
   "id": "774857bf-1a12-43cb-a641-c058bafe3dce",
   "metadata": {},
   "outputs": [
    {
     "data": {
      "text/html": [
       "<div>\n",
       "<style scoped>\n",
       "    .dataframe tbody tr th:only-of-type {\n",
       "        vertical-align: middle;\n",
       "    }\n",
       "\n",
       "    .dataframe tbody tr th {\n",
       "        vertical-align: top;\n",
       "    }\n",
       "\n",
       "    .dataframe thead th {\n",
       "        text-align: right;\n",
       "    }\n",
       "</style>\n",
       "<table border=\"1\" class=\"dataframe\">\n",
       "  <thead>\n",
       "    <tr style=\"text-align: right;\">\n",
       "      <th></th>\n",
       "      <th>price</th>\n",
       "      <th>model</th>\n",
       "      <th>manufactured_year</th>\n",
       "      <th>entry_year</th>\n",
       "      <th>engine_size</th>\n",
       "      <th>transmission</th>\n",
       "      <th>fuel_types</th>\n",
       "      <th>mileage</th>\n",
       "    </tr>\n",
       "  </thead>\n",
       "  <tbody>\n",
       "    <tr>\n",
       "      <th>0</th>\n",
       "      <td>29200000</td>\n",
       "      <td>4</td>\n",
       "      <td>2012</td>\n",
       "      <td>2024</td>\n",
       "      <td>1.8</td>\n",
       "      <td>0</td>\n",
       "      <td>0</td>\n",
       "      <td>179000</td>\n",
       "    </tr>\n",
       "    <tr>\n",
       "      <th>1</th>\n",
       "      <td>120000000</td>\n",
       "      <td>0</td>\n",
       "      <td>2016</td>\n",
       "      <td>2016</td>\n",
       "      <td>5.2</td>\n",
       "      <td>0</td>\n",
       "      <td>1</td>\n",
       "      <td>100000</td>\n",
       "    </tr>\n",
       "    <tr>\n",
       "      <th>2</th>\n",
       "      <td>79000000</td>\n",
       "      <td>0</td>\n",
       "      <td>2022</td>\n",
       "      <td>2024</td>\n",
       "      <td>1.5</td>\n",
       "      <td>0</td>\n",
       "      <td>0</td>\n",
       "      <td>13000</td>\n",
       "    </tr>\n",
       "    <tr>\n",
       "      <th>3</th>\n",
       "      <td>560000000</td>\n",
       "      <td>0</td>\n",
       "      <td>2023</td>\n",
       "      <td>2023</td>\n",
       "      <td>3.5</td>\n",
       "      <td>0</td>\n",
       "      <td>1</td>\n",
       "      <td>3400</td>\n",
       "    </tr>\n",
       "    <tr>\n",
       "      <th>4</th>\n",
       "      <td>14600000</td>\n",
       "      <td>0</td>\n",
       "      <td>2012</td>\n",
       "      <td>2024</td>\n",
       "      <td>1.6</td>\n",
       "      <td>0</td>\n",
       "      <td>1</td>\n",
       "      <td>189000</td>\n",
       "    </tr>\n",
       "    <tr>\n",
       "      <th>...</th>\n",
       "      <td>...</td>\n",
       "      <td>...</td>\n",
       "      <td>...</td>\n",
       "      <td>...</td>\n",
       "      <td>...</td>\n",
       "      <td>...</td>\n",
       "      <td>...</td>\n",
       "      <td>...</td>\n",
       "    </tr>\n",
       "    <tr>\n",
       "      <th>2995</th>\n",
       "      <td>6500000</td>\n",
       "      <td>0</td>\n",
       "      <td>2002</td>\n",
       "      <td>2010</td>\n",
       "      <td>1.5</td>\n",
       "      <td>0</td>\n",
       "      <td>1</td>\n",
       "      <td>1</td>\n",
       "    </tr>\n",
       "    <tr>\n",
       "      <th>2996</th>\n",
       "      <td>35000000</td>\n",
       "      <td>0</td>\n",
       "      <td>2001</td>\n",
       "      <td>2012</td>\n",
       "      <td>4.6</td>\n",
       "      <td>0</td>\n",
       "      <td>1</td>\n",
       "      <td>200</td>\n",
       "    </tr>\n",
       "    <tr>\n",
       "      <th>2997</th>\n",
       "      <td>7800000</td>\n",
       "      <td>0</td>\n",
       "      <td>2009</td>\n",
       "      <td>2019</td>\n",
       "      <td>1.3</td>\n",
       "      <td>0</td>\n",
       "      <td>0</td>\n",
       "      <td>200</td>\n",
       "    </tr>\n",
       "    <tr>\n",
       "      <th>2998</th>\n",
       "      <td>57000000</td>\n",
       "      <td>0</td>\n",
       "      <td>2016</td>\n",
       "      <td>2024</td>\n",
       "      <td>3.0</td>\n",
       "      <td>0</td>\n",
       "      <td>0</td>\n",
       "      <td>150000</td>\n",
       "    </tr>\n",
       "    <tr>\n",
       "      <th>2999</th>\n",
       "      <td>40000000</td>\n",
       "      <td>0</td>\n",
       "      <td>2009</td>\n",
       "      <td>2024</td>\n",
       "      <td>2.4</td>\n",
       "      <td>0</td>\n",
       "      <td>1</td>\n",
       "      <td>188000</td>\n",
       "    </tr>\n",
       "  </tbody>\n",
       "</table>\n",
       "<p>3000 rows × 8 columns</p>\n",
       "</div>"
      ],
      "text/plain": [
       "          price  model  manufactured_year  entry_year engine_size  \\\n",
       "0      29200000      4               2012        2024         1.8   \n",
       "1     120000000      0               2016        2016         5.2   \n",
       "2      79000000      0               2022        2024         1.5   \n",
       "3     560000000      0               2023        2023         3.5   \n",
       "4      14600000      0               2012        2024         1.6   \n",
       "...         ...    ...                ...         ...         ...   \n",
       "2995    6500000      0               2002        2010         1.5   \n",
       "2996   35000000      0               2001        2012         4.6   \n",
       "2997    7800000      0               2009        2019         1.3   \n",
       "2998   57000000      0               2016        2024         3.0   \n",
       "2999   40000000      0               2009        2024         2.4   \n",
       "\n",
       "      transmission  fuel_types mileage  \n",
       "0                0           0  179000  \n",
       "1                0           1  100000  \n",
       "2                0           0   13000  \n",
       "3                0           1    3400  \n",
       "4                0           1  189000  \n",
       "...            ...         ...     ...  \n",
       "2995             0           1       1  \n",
       "2996             0           1     200  \n",
       "2997             0           0     200  \n",
       "2998             0           0  150000  \n",
       "2999             0           1  188000  \n",
       "\n",
       "[3000 rows x 8 columns]"
      ]
     },
     "execution_count": 463,
     "metadata": {},
     "output_type": "execute_result"
    }
   ],
   "source": [
    "df"
   ]
  },
  {
   "cell_type": "code",
   "execution_count": 464,
   "id": "b45fa791-73ad-4e5c-8ced-0a39e340e429",
   "metadata": {},
   "outputs": [
    {
     "data": {
      "text/plain": [
       "0    2400\n",
       "4     350\n",
       "3     150\n",
       "1      50\n",
       "2      50\n",
       "Name: model, dtype: int64"
      ]
     },
     "execution_count": 464,
     "metadata": {},
     "output_type": "execute_result"
    }
   ],
   "source": [
    "df['model'].value_counts()"
   ]
  },
  {
   "cell_type": "markdown",
   "id": "b32dacc7-72e7-4686-8e7a-767cc82339ec",
   "metadata": {},
   "source": [
    "## Splitting Data into Features and Labels"
   ]
  },
  {
   "cell_type": "code",
   "execution_count": 465,
   "id": "4565170e-b0f0-4a91-bdc6-6ce97921940d",
   "metadata": {},
   "outputs": [],
   "source": [
    "import numpy as np \n",
    "from sklearn.model_selection import train_test_split\n",
    "from sklearn import metrics \n",
    "from sklearn.metrics import mean_absolute_error \n",
    "from xgboost import XGBRegressor \n",
    "from sklearn.preprocessing import StandardScaler"
   ]
  },
  {
   "cell_type": "code",
   "execution_count": 466,
   "id": "a4c05f26-7d06-4fc3-85df-0b1e0aee5ce4",
   "metadata": {},
   "outputs": [
    {
     "data": {
      "text/plain": [
       "array([[4, 2012, 2024, ..., 0, 0, '179000'],\n",
       "       [0, 2016, 2016, ..., 0, 1, '100000'],\n",
       "       [0, 2022, 2024, ..., 0, 0, '13000'],\n",
       "       ...,\n",
       "       [0, 2009, 2019, ..., 0, 0, '200'],\n",
       "       [0, 2016, 2024, ..., 0, 0, '150000'],\n",
       "       [0, 2009, 2024, ..., 0, 1, '188000']], dtype=object)"
      ]
     },
     "execution_count": 466,
     "metadata": {},
     "output_type": "execute_result"
    }
   ],
   "source": [
    "x = df.drop(['price'], axis=1).values\n",
    "y = df['price']\n",
    "x"
   ]
  },
  {
   "cell_type": "code",
   "execution_count": 467,
   "id": "82217b60-0a3b-46e1-9e99-6874b3a5fa6e",
   "metadata": {},
   "outputs": [
    {
     "data": {
      "text/plain": [
       "array([[4, 2012, 2024, ..., 0, 0, '179000'],\n",
       "       [0, 2016, 2016, ..., 0, 1, '100000'],\n",
       "       [0, 2022, 2024, ..., 0, 0, '13000'],\n",
       "       ...,\n",
       "       [0, 2009, 2019, ..., 0, 0, '200'],\n",
       "       [0, 2016, 2024, ..., 0, 0, '150000'],\n",
       "       [0, 2009, 2024, ..., 0, 1, '188000']], dtype=object)"
      ]
     },
     "execution_count": 467,
     "metadata": {},
     "output_type": "execute_result"
    }
   ],
   "source": [
    "x"
   ]
  },
  {
   "cell_type": "markdown",
   "id": "0362a639-e633-4af9-b5a7-ca4cad1037fb",
   "metadata": {},
   "source": [
    "## Standardizing Data"
   ]
  },
  {
   "cell_type": "code",
   "execution_count": 468,
   "id": "a267db25-d733-4eb2-a2b3-a58da59706e7",
   "metadata": {},
   "outputs": [
    {
     "data": {
      "text/plain": [
       "StandardScaler()"
      ]
     },
     "execution_count": 468,
     "metadata": {},
     "output_type": "execute_result"
    }
   ],
   "source": [
    "scaler = StandardScaler()\n",
    "scaler.fit(x)"
   ]
  },
  {
   "cell_type": "code",
   "execution_count": 469,
   "id": "6b9ea5e5-7f0d-458e-98a8-c4cf4f7ae3d7",
   "metadata": {},
   "outputs": [
    {
     "data": {
      "text/plain": [
       "array([[ 2.38365647, -0.2422859 ,  0.76885766, ...,  0.        ,\n",
       "        -1.04750391, -0.12778574],\n",
       "       [-0.47673129,  0.54350621, -1.21529113, ...,  0.        ,\n",
       "         0.60644963, -0.13121639],\n",
       "       [-0.47673129,  1.72219437,  0.76885766, ...,  0.        ,\n",
       "        -1.04750391, -0.13499444],\n",
       "       ...,\n",
       "       [-0.47673129, -0.83162998, -0.47123534, ...,  0.        ,\n",
       "        -1.04750391, -0.1355503 ],\n",
       "       [-0.47673129,  0.54350621,  0.76885766, ...,  0.        ,\n",
       "        -1.04750391, -0.12904509],\n",
       "       [-0.47673129, -0.83162998,  0.76885766, ...,  0.        ,\n",
       "         0.60644963, -0.12739491]])"
      ]
     },
     "execution_count": 469,
     "metadata": {},
     "output_type": "execute_result"
    }
   ],
   "source": [
    "standardized_x = scaler.transform(x)\n",
    "standardized_x"
   ]
  },
  {
   "cell_type": "code",
   "execution_count": 470,
   "id": "f1cdfc88-e50f-4cb5-946a-c1bbfebb64d2",
   "metadata": {},
   "outputs": [],
   "source": [
    "x = standardized_x\n",
    "y = df['price']"
   ]
  },
  {
   "cell_type": "code",
   "execution_count": 471,
   "id": "147ca7ec-588c-4790-ba41-7304daa73ed3",
   "metadata": {},
   "outputs": [
    {
     "name": "stdout",
     "output_type": "stream",
     "text": [
      "(3000, 7) (2700, 7) (300, 7)\n",
      "(3000,) (2700,) (300,)\n"
     ]
    }
   ],
   "source": [
    "x_train, x_test, y_train, y_test = train_test_split(x,y, test_size=.1, random_state=42)\n",
    "print(x.shape, x_train.shape, x_test.shape)\n",
    "print(y.shape, y_train.shape, y_test.shape)"
   ]
  },
  {
   "cell_type": "markdown",
   "id": "75ffca1e-ff59-4119-b3c4-564a74947ba2",
   "metadata": {},
   "source": [
    "## XGB Regressor"
   ]
  },
  {
   "cell_type": "code",
   "execution_count": 472,
   "id": "3ef1506f-9075-438a-9a94-b81ddd3e4245",
   "metadata": {},
   "outputs": [],
   "source": [
    "xgb_model = XGBRegressor()"
   ]
  },
  {
   "cell_type": "code",
   "execution_count": 473,
   "id": "cf49bb75-ee18-4e12-9d6d-c8feea3d67ea",
   "metadata": {},
   "outputs": [
    {
     "data": {
      "text/plain": [
       "XGBRegressor(base_score=None, booster=None, callbacks=None,\n",
       "             colsample_bylevel=None, colsample_bynode=None,\n",
       "             colsample_bytree=None, early_stopping_rounds=None,\n",
       "             enable_categorical=False, eval_metric=None, feature_types=None,\n",
       "             gamma=None, gpu_id=None, grow_policy=None, importance_type=None,\n",
       "             interaction_constraints=None, learning_rate=None, max_bin=None,\n",
       "             max_cat_threshold=None, max_cat_to_onehot=None,\n",
       "             max_delta_step=None, max_depth=None, max_leaves=None,\n",
       "             min_child_weight=None, missing=nan, monotone_constraints=None,\n",
       "             n_estimators=100, n_jobs=None, num_parallel_tree=None,\n",
       "             predictor=None, random_state=None, ...)"
      ]
     },
     "execution_count": 473,
     "metadata": {},
     "output_type": "execute_result"
    }
   ],
   "source": [
    "xgb_model.fit(x_train, y_train)"
   ]
  },
  {
   "cell_type": "code",
   "execution_count": 474,
   "id": "2fca5b88-dc3f-4577-a0b9-6cdd03d13c96",
   "metadata": {},
   "outputs": [
    {
     "data": {
      "text/plain": [
       "array([[-0.47673129,  0.34705818,  0.76885766, ...,  0.        ,\n",
       "        -1.04750391, -0.12717778],\n",
       "       [ 1.66855953, -0.63518195,  0.76885766, ...,  0.        ,\n",
       "        -1.04750391, -0.13074305],\n",
       "       [-0.47673129,  0.34705818,  0.76885766, ...,  0.        ,\n",
       "        -1.04750391, -0.12717778],\n",
       "       ...,\n",
       "       [ 1.66855953, -0.2422859 ,  0.76885766, ...,  0.        ,\n",
       "        -1.04750391, -0.13047815],\n",
       "       [-0.47673129,  1.13285029,  0.76885766, ...,  0.        ,\n",
       "        -1.04750391, -0.13247574],\n",
       "       [-0.47673129, -0.2422859 ,  0.02480186, ...,  0.        ,\n",
       "         0.60644963, -0.12774232]])"
      ]
     },
     "execution_count": 474,
     "metadata": {},
     "output_type": "execute_result"
    }
   ],
   "source": [
    "x_train"
   ]
  },
  {
   "cell_type": "markdown",
   "id": "7a94a213-36d0-421a-a361-18e6795ce01b",
   "metadata": {},
   "source": [
    "## Model Evaluation"
   ]
  },
  {
   "cell_type": "code",
   "execution_count": 475,
   "id": "6d5a867a-8997-422a-b759-e661e58e7792",
   "metadata": {},
   "outputs": [
    {
     "name": "stdout",
     "output_type": "stream",
     "text": [
      "R2 score on training data : 0.9999908892039365\n",
      "Mean absolute error on training data:  49294.72814814815\n"
     ]
    }
   ],
   "source": [
    "training_data_pred = xgb_model.predict(x_train)\n",
    "score_1 = metrics.r2_score(y_train, training_data_pred)\n",
    "\n",
    "mae = metrics.mean_absolute_error(y_train, training_data_pred)\n",
    "\n",
    "print('R2 score on training data :', score_1)\n",
    "print('Mean absolute error on training data: ', mae)"
   ]
  },
  {
   "cell_type": "code",
   "execution_count": 476,
   "id": "414ab761-0e64-429e-a4a2-d441c33f76af",
   "metadata": {},
   "outputs": [
    {
     "name": "stdout",
     "output_type": "stream",
     "text": [
      "R2 score on training data : 0.9999903258908323\n",
      "Mean absolute error on training data:  56411.113333333335\n"
     ]
    }
   ],
   "source": [
    "test_data_pred = xgb_model.predict(x_test)\n",
    "score_1 = metrics.r2_score(y_test, test_data_pred)\n",
    "\n",
    "mae = metrics.mean_absolute_error(y_test, test_data_pred)\n",
    "\n",
    "print('R2 score on training data :', score_1)\n",
    "print('Mean absolute error on training data: ', mae)"
   ]
  },
  {
   "cell_type": "markdown",
   "id": "f1949c20-377a-42bf-812b-c2139553bb86",
   "metadata": {},
   "source": [
    "## Making Predictions"
   ]
  },
  {
   "cell_type": "code",
   "execution_count": 477,
   "id": "6c69a91c-fd45-4510-9378-60e4f3a9fea3",
   "metadata": {},
   "outputs": [
    {
     "name": "stdout",
     "output_type": "stream",
     "text": [
      "[29199994.]\n",
      "This car price prediction is : [29199994.]\n"
     ]
    }
   ],
   "source": [
    "input_data = (4,2012,2024,1.8,0,0,179000)\n",
    "\n",
    "input_changed= np.array(input_data).reshape(1,-1)\n",
    "\n",
    "std_input = scaler.transform(input_changed)\n",
    "\n",
    "prediction = xgb_model.predict(std_input)\n",
    "print(prediction)\n",
    "\n",
    "print('This car price prediction is :' , prediction)"
   ]
  },
  {
   "cell_type": "markdown",
   "id": "f29bd349-9fed-4006-9c51-e8d729b76660",
   "metadata": {},
   "source": [
    "## Saving Model and Scaler"
   ]
  },
  {
   "cell_type": "code",
   "execution_count": 428,
   "id": "afd39a3e-1e2e-4ba4-935b-a0fd59de2160",
   "metadata": {},
   "outputs": [
    {
     "data": {
      "text/plain": [
       "['scaler.pkl']"
      ]
     },
     "execution_count": 428,
     "metadata": {},
     "output_type": "execute_result"
    }
   ],
   "source": [
    "import joblib\n",
    "\n",
    "joblib.dump(xgb_model, 'xgb_model.pkl')\n",
    "\n",
    "joblib.dump(scaler, 'scaler.pkl')"
   ]
  },
  {
   "cell_type": "code",
   "execution_count": null,
   "id": "dcb9e7c9-d3df-4fb8-9264-09e1a6514053",
   "metadata": {},
   "outputs": [],
   "source": []
  },
  {
   "cell_type": "code",
   "execution_count": null,
   "id": "73dcbbf1-f3be-462e-a345-a74fed48f494",
   "metadata": {},
   "outputs": [],
   "source": []
  },
  {
   "cell_type": "code",
   "execution_count": null,
   "id": "2dc30f04-d453-4af4-bbc7-d1072b57a074",
   "metadata": {},
   "outputs": [],
   "source": []
  },
  {
   "cell_type": "code",
   "execution_count": null,
   "id": "63529ff4-304e-49ad-b919-bb627c627cc6",
   "metadata": {},
   "outputs": [],
   "source": []
  },
  {
   "cell_type": "code",
   "execution_count": null,
   "id": "d68b2f4b-ba5e-4763-addc-d2bd6fe1a82f",
   "metadata": {},
   "outputs": [],
   "source": []
  },
  {
   "cell_type": "code",
   "execution_count": null,
   "id": "ff23accd-d6ee-4b17-bb7d-38b7ef461ee0",
   "metadata": {},
   "outputs": [],
   "source": []
  },
  {
   "cell_type": "code",
   "execution_count": null,
   "id": "6c104740-ecab-4f02-b582-20b2d541aa0a",
   "metadata": {},
   "outputs": [],
   "source": []
  },
  {
   "cell_type": "code",
   "execution_count": null,
   "id": "e2f53302-69ef-437e-b703-27531bac1d14",
   "metadata": {},
   "outputs": [],
   "source": []
  },
  {
   "cell_type": "code",
   "execution_count": null,
   "id": "2bb10bea-77c1-4f66-a921-f6eafaca4566",
   "metadata": {},
   "outputs": [],
   "source": []
  },
  {
   "cell_type": "code",
   "execution_count": null,
   "id": "e898f6c6-be12-4e26-a5f4-7c63dd011364",
   "metadata": {},
   "outputs": [],
   "source": []
  },
  {
   "cell_type": "code",
   "execution_count": null,
   "id": "74046289-333b-4eb8-8389-48108b234682",
   "metadata": {},
   "outputs": [],
   "source": []
  },
  {
   "cell_type": "code",
   "execution_count": null,
   "id": "d414e2cb-ffbd-4231-ad10-6a1ee2587a8e",
   "metadata": {},
   "outputs": [],
   "source": []
  },
  {
   "cell_type": "code",
   "execution_count": null,
   "id": "14ba7b52-7560-4199-9c70-49a42f42f99e",
   "metadata": {},
   "outputs": [],
   "source": []
  }
 ],
 "metadata": {
  "kernelspec": {
   "display_name": "Python 3 (ipykernel)",
   "language": "python",
   "name": "python3"
  },
  "language_info": {
   "codemirror_mode": {
    "name": "ipython",
    "version": 3
   },
   "file_extension": ".py",
   "mimetype": "text/x-python",
   "name": "python",
   "nbconvert_exporter": "python",
   "pygments_lexer": "ipython3",
   "version": "3.8.13"
  }
 },
 "nbformat": 4,
 "nbformat_minor": 5
}
